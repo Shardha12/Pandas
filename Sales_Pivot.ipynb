{
  "nbformat": 4,
  "nbformat_minor": 0,
  "metadata": {
    "colab": {
      "provenance": []
    },
    "kernelspec": {
      "name": "python3",
      "display_name": "Python 3"
    },
    "language_info": {
      "name": "python"
    }
  },
  "cells": [
    {
      "cell_type": "code",
      "execution_count": null,
      "metadata": {
        "id": "P9CX28wiiIz3"
      },
      "outputs": [],
      "source": [
        "import numpy as np\n",
        "import pandas as pd\n",
        "df=pd.read_excel('/content/SaleData.xlsx')\n",
        "df"
      ]
    },
    {
      "cell_type": "code",
      "source": [
        "#1. Write a Pandas program to create a Pivot table with multiple indexes\n",
        "pd.pivot_table(df,index=['Region','SalesMan'])"
      ],
      "metadata": {
        "id": "cOujTxTxjBlP"
      },
      "execution_count": null,
      "outputs": []
    },
    {
      "cell_type": "code",
      "source": [
        "'''2. Write a Pandas program to create a Pivot table and find the total sale amount region wise,\n",
        "manager wise.'''\n",
        "pd.pivot_table(df,index=['Region','SalesMan'],values=['Sale_amt'],aggfunc=np.sum)"
      ],
      "metadata": {
        "id": "s7nLHhOTkeo_"
      },
      "execution_count": null,
      "outputs": []
    },
    {
      "cell_type": "code",
      "source": [
        "'''3. Write a Pandas program to create a Pivot table and find the total sale amount region wise,\n",
        "manager wise, sales man wise.'''\n",
        "pd.pivot_table(df,index=['Region','Manager','SalesMan'],values=['Sale_amt'],aggfunc=np.sum)"
      ],
      "metadata": {
        "id": "Lm-RRp_Ml-cB"
      },
      "execution_count": null,
      "outputs": []
    },
    {
      "cell_type": "code",
      "source": [
        "#4. Write a Pandas program to create a Pivot table and find the item wise unit sold.\n",
        "pd.pivot_table(df,index=['Item'],values=['Units'],aggfunc=np.sum)"
      ],
      "metadata": {
        "id": "T8tiAs4hmjPT"
      },
      "execution_count": null,
      "outputs": []
    },
    {
      "cell_type": "code",
      "source": [
        "#5. Write a Pandas program to create a Pivot table and find the region wise total sale.\n",
        "pd.pivot_table(df,index=['Region'],values=['Sale_amt'],aggfunc=np.sum)"
      ],
      "metadata": {
        "id": "llVCnSdYm7fZ"
      },
      "execution_count": null,
      "outputs": []
    },
    {
      "cell_type": "code",
      "source": [
        "#6. Write a Pandas program to create a Pivot table and find the region wise, item wise unit sold.\n",
        "pd.pivot_table(df,index=['Region','Item'],values=['Units'],aggfunc=np.sum)"
      ],
      "metadata": {
        "id": "HD_-fYWznYgQ"
      },
      "execution_count": null,
      "outputs": []
    },
    {
      "cell_type": "code",
      "source": [
        "'''7. Write a Pandas program to create a Pivot table and count the manager wise sale and mean value\n",
        "of sale amount.'''\n",
        "pd.pivot_table(df,index=['Manager'],values=['Sale_amt'],aggfunc=[np.mean])"
      ],
      "metadata": {
        "id": "QCVwfX43C8nf"
      },
      "execution_count": null,
      "outputs": []
    },
    {
      "cell_type": "code",
      "source": [
        "'''8. Write a Pandas program to create a Pivot table and find manager wise, salesman wise total sale\n",
        "and also display the sum of all sale amount at the bottom.'''\n",
        "pd.pivot_table(df,index=['Manager','SalesMan'],values=['Sale_amt'],aggfunc=[np.sum],fill_value=0,\n",
        "               margins=True)\n"
      ],
      "metadata": {
        "id": "RXSJBefQkB8u"
      },
      "execution_count": null,
      "outputs": []
    },
    {
      "cell_type": "code",
      "source": [
        "'''9. Write a Pandas program to create a Pivot table and find the total sale amount region wise,\n",
        "manager wise, sales man wise where Manager = \"Douglas\".'''\n",
        "df1=pd.pivot_table(df,index=['Region','Manager','SalesMan'],values=['Sale_amt'])\n",
        "print(df1.query('Manager==[\"Douglas\"]'))"
      ],
      "metadata": {
        "id": "nnwm-XFFkwOT"
      },
      "execution_count": null,
      "outputs": []
    },
    {
      "cell_type": "code",
      "source": [
        "'''10. Write a Pandas program to create a Pivot table and find the region wise Television and\n",
        "Home Theater sold.'''\n",
        "df1=pd.pivot_table(df,index=['Region',\"Item\"],values=['Units'])\n",
        "print(df1.query('Item==[\"Television\",\"Home Theater\"]'))\n"
      ],
      "metadata": {
        "id": "SDhmZi_Dlv7v"
      },
      "execution_count": null,
      "outputs": []
    },
    {
      "cell_type": "code",
      "source": [
        "#11. Write a Pandas program to create a Pivot table and find the maximum sale value of the items.\n",
        "pd.pivot_table(df,index=['Item'],values=['Sale_amt'],aggfunc=[np.max])"
      ],
      "metadata": {
        "id": "ikR6ZvRGm3ia"
      },
      "execution_count": null,
      "outputs": []
    },
    {
      "cell_type": "code",
      "source": [
        "#12. Write a Pandas program to create a Pivot table and find the minimum sale value of the items.\n",
        "pd.pivot_table(df,index=['Item'],values=['Sale_amt'],aggfunc=[np.min])"
      ],
      "metadata": {
        "id": "0zF3MXv4oOs-"
      },
      "execution_count": null,
      "outputs": []
    },
    {
      "cell_type": "code",
      "source": [
        "'''13.Write a Pandas program to create a Pivot table and find the maximum and minimum sale value\n",
        "of the items'''\n",
        "pd.pivot_table(df,index=['Item'],values=['Sale_amt'],aggfunc=[np.max,np.min])"
      ],
      "metadata": {
        "id": "j5dqfbtgoVPd"
      },
      "execution_count": null,
      "outputs": []
    }
  ]
}